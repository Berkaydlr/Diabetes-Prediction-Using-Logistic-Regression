{
 "cells": [
  {
   "cell_type": "markdown",
   "id": "6283afbb",
   "metadata": {},
   "source": [
    "# Veri Setinin Hikayesi "
   ]
  },
  {
   "cell_type": "code",
   "execution_count": null,
   "id": "4bc73c9e",
   "metadata": {},
   "outputs": [],
   "source": [
    "######################################################\n",
    "# Diabetes Prediction with Logistic Regression\n",
    "######################################################\n",
    "\n",
    "# İş Problemi:\n",
    "\n",
    "# Özellikleri belirtildiğinde kişilerin diyabet hastası olup\n",
    "# olmadıklarını tahmin edebilecek bir makine öğrenmesi\n",
    "# modeli geliştirebilir misiniz?\n",
    "\n",
    "# Veri seti ABD'deki Ulusal Diyabet-Sindirim-Böbrek Hastalıkları Enstitüleri'nde tutulan büyük veri setinin\n",
    "# parçasıdır. ABD'deki Arizona Eyaleti'nin en büyük 5. şehri olan Phoenix şehrinde yaşayan 21 yaş ve üzerinde olan\n",
    "# Pima Indian kadınları üzerinde yapılan diyabet araştırması için kullanılan verilerdir. 768 gözlem ve 8 sayısal\n",
    "# bağımsız değişkenden oluşmaktadır. Hedef değişken \"outcome\" olarak belirtilmiş olup; 1 diyabet test sonucunun\n",
    "# pozitif oluşunu, 0 ise negatif oluşunu belirtmektedir.\n",
    "\n",
    "# Değişkenler\n",
    "# Pregnancies: Hamilelik sayısı\n",
    "# Glucose: Glikoz.\n",
    "# BloodPressure: Kan basıncı.\n",
    "# SkinThickness: Cilt Kalınlığı\n",
    "# Insulin: İnsülin.\n",
    "# BMI: Beden kitle indeksi.\n",
    "# DiabetesPedigreeFunction: Soyumuzdaki kişilere göre diyabet olma ihtimalimizi hesaplayan bir fonksiyon.\n",
    "# Age: Yaş (yıl)\n",
    "# Outcome: Kişinin diyabet olup olmadığı bilgisi. Hastalığa sahip (1) ya da değil (0)\n",
    "\n",
    "\n",
    "# 1. Exploratory Data Analysis\n",
    "# 2. Data Preprocessing\n",
    "# 3. Model & Prediction\n",
    "# 4. Model Evaluation\n",
    "# 5. Model Validation: Holdout\n",
    "# 6. Model Validation: 10-Fold Cross Validation\n",
    "# 7. Prediction for A New Observation"
   ]
  },
  {
   "cell_type": "code",
   "execution_count": 33,
   "id": "4dc5d8cf",
   "metadata": {},
   "outputs": [],
   "source": [
    "import matplotlib.pyplot as plt\n",
    "import numpy as np\n",
    "import pandas as pd\n",
    "import seaborn as sns\n",
    "\n",
    "from sklearn.preprocessing import RobustScaler\n",
    "from sklearn.linear_model import LogisticRegression\n",
    "from sklearn.metrics import accuracy_score, roc_auc_score, confusion_matrix, classification_report, plot_roc_curve\n",
    "from sklearn.model_selection import train_test_split, cross_validate\n",
    "\n",
    "def outlier_thresholds(dataframe, col_name, q1=0.05, q3=0.95):\n",
    "    quartile1 = dataframe[col_name].quantile(q1)\n",
    "    quartile3 = dataframe[col_name].quantile(q3)\n",
    "    interquantile_range = quartile3 - quartile1\n",
    "    up_limit = quartile3 + 1.5 * interquantile_range\n",
    "    low_limit = quartile1 - 1.5 * interquantile_range\n",
    "    return low_limit, up_limit\n",
    "\n",
    "def check_outlier(dataframe, col_name):\n",
    "    low_limit, up_limit = outlier_thresholds(dataframe, col_name)\n",
    "    if dataframe[(dataframe[col_name] > up_limit) | (dataframe[col_name] < low_limit)].any(axis=None):\n",
    "        return True\n",
    "    else:\n",
    "        return False\n",
    "\n",
    "def replace_with_thresholds(dataframe, variable):\n",
    "    low_limit, up_limit = outlier_thresholds(dataframe, variable)\n",
    "    dataframe.loc[(dataframe[variable] < low_limit), variable] = low_limit\n",
    "    dataframe.loc[(dataframe[variable] > up_limit), variable] = up_limit\n",
    "\n",
    "\n",
    "pd.set_option('display.max_columns', None)\n",
    "pd.set_option('display.float_format', lambda x: '%.3f' % x)\n",
    "pd.set_option('display.width', 500)\n"
   ]
  },
  {
   "cell_type": "code",
   "execution_count": 5,
   "id": "3751c91d",
   "metadata": {},
   "outputs": [
    {
     "data": {
      "text/plain": [
       "0    500\n",
       "1    268\n",
       "Name: Outcome, dtype: int64"
      ]
     },
     "execution_count": 5,
     "metadata": {},
     "output_type": "execute_result"
    }
   ],
   "source": [
    "df = pd.read_csv(\"diabetes.csv\")\n",
    "\n",
    "##########################\n",
    "# Target'ın Analizi\n",
    "##########################\n",
    "\n",
    "df[\"Outcome\"].value_counts()"
   ]
  },
  {
   "cell_type": "code",
   "execution_count": 7,
   "id": "4e0cf0d9",
   "metadata": {},
   "outputs": [
    {
     "data": {
      "image/png": "[encoded data removed]",
      "text/plain": [
       "<Figure size 640x480 with 1 Axes>"
      ]
     },
     "metadata": {},
     "output_type": "display_data"
    }
   ],
   "source": [
    "sns.countplot(x=\"Outcome\", data=df)\n",
    "plt.show()"
   ]
  },
  {
   "cell_type": "code",
   "execution_count": 9,
   "id": "99d98636",
   "metadata": {},
   "outputs": [
    {
     "data": {
      "text/plain": [
       "0   65.104\n",
       "1   34.896\n",
       "Name: Outcome, dtype: float64"
      ]
     },
     "execution_count": 9,
     "metadata": {},
     "output_type": "execute_result"
    }
   ],
   "source": [
    "100 * df['Outcome'].value_counts() / len(df)\n",
    "# satır sayıları olan 768i 500e ve 268 e bölerek"
   ]
  },
  {
   "cell_type": "code",
   "execution_count": 15,
   "id": "6dd17ebd",
   "metadata": {},
   "outputs": [
    {
     "data": {
      "text/html": [
       "<div>\n",
       "<style scoped>\n",
       "    .dataframe tbody tr th:only-of-type {\n",
       "        vertical-align: middle;\n",
       "    }\n",
       "\n",
       "    .dataframe tbody tr th {\n",
       "        vertical-align: top;\n",
       "    }\n",
       "\n",
       "    .dataframe thead th {\n",
       "        text-align: right;\n",
       "    }\n",
       "</style>\n",
       "<table border=\"1\" class=\"dataframe\">\n",
       "  <thead>\n",
       "    <tr style=\"text-align: right;\">\n",
       "      <th></th>\n",
       "      <th>count</th>\n",
       "      <th>mean</th>\n",
       "      <th>std</th>\n",
       "      <th>min</th>\n",
       "      <th>25%</th>\n",
       "      <th>50%</th>\n",
       "      <th>75%</th>\n",
       "      <th>max</th>\n",
       "    </tr>\n",
       "  </thead>\n",
       "  <tbody>\n",
       "    <tr>\n",
       "      <th>Pregnancies</th>\n",
       "      <td>768.000</td>\n",
       "      <td>3.845</td>\n",
       "      <td>3.370</td>\n",
       "      <td>0.000</td>\n",
       "      <td>1.000</td>\n",
       "      <td>3.000</td>\n",
       "      <td>6.000</td>\n",
       "      <td>17.000</td>\n",
       "    </tr>\n",
       "    <tr>\n",
       "      <th>Glucose</th>\n",
       "      <td>768.000</td>\n",
       "      <td>120.895</td>\n",
       "      <td>31.973</td>\n",
       "      <td>0.000</td>\n",
       "      <td>99.000</td>\n",
       "      <td>117.000</td>\n",
       "      <td>140.250</td>\n",
       "      <td>199.000</td>\n",
       "    </tr>\n",
       "    <tr>\n",
       "      <th>BloodPressure</th>\n",
       "      <td>768.000</td>\n",
       "      <td>69.105</td>\n",
       "      <td>19.356</td>\n",
       "      <td>0.000</td>\n",
       "      <td>62.000</td>\n",
       "      <td>72.000</td>\n",
       "      <td>80.000</td>\n",
       "      <td>122.000</td>\n",
       "    </tr>\n",
       "    <tr>\n",
       "      <th>SkinThickness</th>\n",
       "      <td>768.000</td>\n",
       "      <td>20.536</td>\n",
       "      <td>15.952</td>\n",
       "      <td>0.000</td>\n",
       "      <td>0.000</td>\n",
       "      <td>23.000</td>\n",
       "      <td>32.000</td>\n",
       "      <td>99.000</td>\n",
       "    </tr>\n",
       "    <tr>\n",
       "      <th>Insulin</th>\n",
       "      <td>768.000</td>\n",
       "      <td>79.799</td>\n",
       "      <td>115.244</td>\n",
       "      <td>0.000</td>\n",
       "      <td>0.000</td>\n",
       "      <td>30.500</td>\n",
       "      <td>127.250</td>\n",
       "      <td>846.000</td>\n",
       "    </tr>\n",
       "    <tr>\n",
       "      <th>BMI</th>\n",
       "      <td>768.000</td>\n",
       "      <td>31.993</td>\n",
       "      <td>7.884</td>\n",
       "      <td>0.000</td>\n",
       "      <td>27.300</td>\n",
       "      <td>32.000</td>\n",
       "      <td>36.600</td>\n",
       "      <td>67.100</td>\n",
       "    </tr>\n",
       "    <tr>\n",
       "      <th>DiabetesPedigreeFunction</th>\n",
       "      <td>768.000</td>\n",
       "      <td>0.472</td>\n",
       "      <td>0.331</td>\n",
       "      <td>0.078</td>\n",
       "      <td>0.244</td>\n",
       "      <td>0.372</td>\n",
       "      <td>0.626</td>\n",
       "      <td>2.420</td>\n",
       "    </tr>\n",
       "    <tr>\n",
       "      <th>Age</th>\n",
       "      <td>768.000</td>\n",
       "      <td>33.241</td>\n",
       "      <td>11.760</td>\n",
       "      <td>21.000</td>\n",
       "      <td>24.000</td>\n",
       "      <td>29.000</td>\n",
       "      <td>41.000</td>\n",
       "      <td>81.000</td>\n",
       "    </tr>\n",
       "    <tr>\n",
       "      <th>Outcome</th>\n",
       "      <td>768.000</td>\n",
       "      <td>0.349</td>\n",
       "      <td>0.477</td>\n",
       "      <td>0.000</td>\n",
       "      <td>0.000</td>\n",
       "      <td>0.000</td>\n",
       "      <td>1.000</td>\n",
       "      <td>1.000</td>\n",
       "    </tr>\n",
       "  </tbody>\n",
       "</table>\n",
       "</div>"
      ],
      "text/plain": [
       "                           count    mean     std    min    25%     50%     75%     max\n",
       "Pregnancies              768.000   3.845   3.370  0.000  1.000   3.000   6.000  17.000\n",
       "Glucose                  768.000 120.895  31.973  0.000 99.000 117.000 140.250 199.000\n",
       "BloodPressure            768.000  69.105  19.356  0.000 62.000  72.000  80.000 122.000\n",
       "SkinThickness            768.000  20.536  15.952  0.000  0.000  23.000  32.000  99.000\n",
       "Insulin                  768.000  79.799 115.244  0.000  0.000  30.500 127.250 846.000\n",
       "BMI                      768.000  31.993   7.884  0.000 27.300  32.000  36.600  67.100\n",
       "DiabetesPedigreeFunction 768.000   0.472   0.331  0.078  0.244   0.372   0.626   2.420\n",
       "Age                      768.000  33.241  11.760 21.000 24.000  29.000  41.000  81.000\n",
       "Outcome                  768.000   0.349   0.477  0.000  0.000   0.000   1.000   1.000"
      ]
     },
     "execution_count": 15,
     "metadata": {},
     "output_type": "execute_result"
    }
   ],
   "source": [
    "df.describe().T"
   ]
  },
  {
   "cell_type": "code",
   "execution_count": 16,
   "id": "de1b03da",
   "metadata": {},
   "outputs": [
    {
     "data": {
      "text/plain": [
       "<AxesSubplot:>"
      ]
     },
     "execution_count": 16,
     "metadata": {},
     "output_type": "execute_result"
    },
    {
     "data": {
      "image/png": "[encoded data removed]",
      "text/plain": [
       "<Figure size 640x480 with 1 Axes>"
      ]
     },
     "metadata": {},
     "output_type": "display_data"
    }
   ],
   "source": [
    "df['BloodPressure'].hist()"
   ]
  },
  {
   "cell_type": "code",
   "execution_count": 21,
   "id": "5e38bf78",
   "metadata": {},
   "outputs": [
    {
     "data": {
      "text/plain": [
       "<AxesSubplot:>"
      ]
     },
     "execution_count": 21,
     "metadata": {},
     "output_type": "execute_result"
    },
    {
     "data": {
      "image/png": "[encoded data removed]",
      "text/plain": [
       "<Figure size 640x480 with 1 Axes>"
      ]
     },
     "metadata": {},
     "output_type": "display_data"
    }
   ],
   "source": [
    "df['Glucose'].hist()"
   ]
  },
  {
   "cell_type": "code",
   "execution_count": 23,
   "id": "d87b75c9",
   "metadata": {},
   "outputs": [],
   "source": [
    "def plot_numerical_col(dataframe, numerical_col):\n",
    "    dataframe[numerical_col].hist(bins=20)\n",
    "    plt.xlabel(numerical_col)\n",
    "    plt.show(block=True)"
   ]
  },
  {
   "cell_type": "code",
   "execution_count": 26,
   "id": "915a2cf1",
   "metadata": {},
   "outputs": [
    {
     "data": {
      "image/png": "[encoded data removed]",
      "text/plain": [
       "<Figure size 640x480 with 1 Axes>"
      ]
     },
     "metadata": {},
     "output_type": "display_data"
    },
    {
     "data": {
      "image/png": "[encoded data removed]",
      "text/plain": [
       "<Figure size 640x480 with 1 Axes>"
      ]
     },
     "metadata": {},
     "output_type": "display_data"
    },
    {
     "data": {
      "image/png": "[encoded data removed]",
      "text/plain": [
       "<Figure size 640x480 with 1 Axes>"
      ]
     },
     "metadata": {},
     "output_type": "display_data"
    },
    {
     "data": {
      "image/png": "[encoded data removed]",
      "text/plain": [
       "<Figure size 640x480 with 1 Axes>"
      ]
     },
     "metadata": {},
     "output_type": "display_data"
    },
    {
     "data": {
      "image/png": "[encoded data removed]",
      "text/plain": [
       "<Figure size 640x480 with 1 Axes>"
      ]
     },
     "metadata": {},
     "output_type": "display_data"
    },
    {
     "data": {
      "image/png": "[encoded data removed]",
      "text/plain": [
       "<Figure size 640x480 with 1 Axes>"
      ]
     },
     "metadata": {},
     "output_type": "display_data"
    },
    {
     "data": {
      "image/png": "[encoded data removed]",
      "text/plain": [
       "<Figure size 640x480 with 1 Axes>"
      ]
     },
     "metadata": {},
     "output_type": "display_data"
    },
    {
     "data": {
      "image/png": "[encoded data removed]",
      "text/plain": [
       "<Figure size 640x480 with 1 Axes>"
      ]
     },
     "metadata": {},
     "output_type": "display_data"
    },
    {
     "data": {
      "image/png": "[encoded data removed]",
      "text/plain": [
       "<Figure size 640x480 with 1 Axes>"
      ]
     },
     "metadata": {},
     "output_type": "display_data"
    }
   ],
   "source": [
    "for col in df.columns:\n",
    "    plot_numerical_col(df,col)"
   ]
  },
  {
   "cell_type": "code",
   "execution_count": 27,
   "id": "4cf69796",
   "metadata": {},
   "outputs": [
    {
     "data": {
      "text/html": [
       "<div>\n",
       "<style scoped>\n",
       "    .dataframe tbody tr th:only-of-type {\n",
       "        vertical-align: middle;\n",
       "    }\n",
       "\n",
       "    .dataframe tbody tr th {\n",
       "        vertical-align: top;\n",
       "    }\n",
       "\n",
       "    .dataframe thead th {\n",
       "        text-align: right;\n",
       "    }\n",
       "</style>\n",
       "<table border=\"1\" class=\"dataframe\">\n",
       "  <thead>\n",
       "    <tr style=\"text-align: right;\">\n",
       "      <th></th>\n",
       "      <th>Pregnancies</th>\n",
       "    </tr>\n",
       "    <tr>\n",
       "      <th>Outcome</th>\n",
       "      <th></th>\n",
       "    </tr>\n",
       "  </thead>\n",
       "  <tbody>\n",
       "    <tr>\n",
       "      <th>0</th>\n",
       "      <td>3.298</td>\n",
       "    </tr>\n",
       "    <tr>\n",
       "      <th>1</th>\n",
       "      <td>4.866</td>\n",
       "    </tr>\n",
       "  </tbody>\n",
       "</table>\n",
       "</div>"
      ],
      "text/plain": [
       "         Pregnancies\n",
       "Outcome             \n",
       "0              3.298\n",
       "1              4.866"
      ]
     },
     "execution_count": 27,
     "metadata": {},
     "output_type": "execute_result"
    }
   ],
   "source": [
    "df.groupby('Outcome').agg({\"Pregnancies\":\"mean\"})"
   ]
  },
  {
   "cell_type": "code",
   "execution_count": 29,
   "id": "6611cba6",
   "metadata": {},
   "outputs": [],
   "source": [
    "##########################\n",
    "# Target vs Features\n",
    "##########################\n",
    "def target_summary_with_num(dataframe, target, numerical_col):\n",
    "    print(dataframe.groupby(target).agg({numerical_col: \"mean\"}), end=\"\\n\\n\\n\")"
   ]
  },
  {
   "cell_type": "code",
   "execution_count": 31,
   "id": "3fbd1d5a",
   "metadata": {},
   "outputs": [
    {
     "data": {
      "text/plain": [
       "Pregnancies                 0\n",
       "Glucose                     0\n",
       "BloodPressure               0\n",
       "SkinThickness               0\n",
       "Insulin                     0\n",
       "BMI                         0\n",
       "DiabetesPedigreeFunction    0\n",
       "Age                         0\n",
       "Outcome                     0\n",
       "dtype: int64"
      ]
     },
     "execution_count": 31,
     "metadata": {},
     "output_type": "execute_result"
    }
   ],
   "source": [
    "df.isnull().sum()"
   ]
  },
  {
   "cell_type": "code",
   "execution_count": 32,
   "id": "b16c4cde",
   "metadata": {},
   "outputs": [
    {
     "data": {
      "text/html": [
       "<div>\n",
       "<style scoped>\n",
       "    .dataframe tbody tr th:only-of-type {\n",
       "        vertical-align: middle;\n",
       "    }\n",
       "\n",
       "    .dataframe tbody tr th {\n",
       "        vertical-align: top;\n",
       "    }\n",
       "\n",
       "    .dataframe thead th {\n",
       "        text-align: right;\n",
       "    }\n",
       "</style>\n",
       "<table border=\"1\" class=\"dataframe\">\n",
       "  <thead>\n",
       "    <tr style=\"text-align: right;\">\n",
       "      <th></th>\n",
       "      <th>count</th>\n",
       "      <th>mean</th>\n",
       "      <th>std</th>\n",
       "      <th>min</th>\n",
       "      <th>25%</th>\n",
       "      <th>50%</th>\n",
       "      <th>75%</th>\n",
       "      <th>max</th>\n",
       "    </tr>\n",
       "  </thead>\n",
       "  <tbody>\n",
       "    <tr>\n",
       "      <th>Pregnancies</th>\n",
       "      <td>768.000</td>\n",
       "      <td>3.845</td>\n",
       "      <td>3.370</td>\n",
       "      <td>0.000</td>\n",
       "      <td>1.000</td>\n",
       "      <td>3.000</td>\n",
       "      <td>6.000</td>\n",
       "      <td>17.000</td>\n",
       "    </tr>\n",
       "    <tr>\n",
       "      <th>Glucose</th>\n",
       "      <td>768.000</td>\n",
       "      <td>120.895</td>\n",
       "      <td>31.973</td>\n",
       "      <td>0.000</td>\n",
       "      <td>99.000</td>\n",
       "      <td>117.000</td>\n",
       "      <td>140.250</td>\n",
       "      <td>199.000</td>\n",
       "    </tr>\n",
       "    <tr>\n",
       "      <th>BloodPressure</th>\n",
       "      <td>768.000</td>\n",
       "      <td>69.105</td>\n",
       "      <td>19.356</td>\n",
       "      <td>0.000</td>\n",
       "      <td>62.000</td>\n",
       "      <td>72.000</td>\n",
       "      <td>80.000</td>\n",
       "      <td>122.000</td>\n",
       "    </tr>\n",
       "    <tr>\n",
       "      <th>SkinThickness</th>\n",
       "      <td>768.000</td>\n",
       "      <td>20.536</td>\n",
       "      <td>15.952</td>\n",
       "      <td>0.000</td>\n",
       "      <td>0.000</td>\n",
       "      <td>23.000</td>\n",
       "      <td>32.000</td>\n",
       "      <td>99.000</td>\n",
       "    </tr>\n",
       "    <tr>\n",
       "      <th>Insulin</th>\n",
       "      <td>768.000</td>\n",
       "      <td>79.799</td>\n",
       "      <td>115.244</td>\n",
       "      <td>0.000</td>\n",
       "      <td>0.000</td>\n",
       "      <td>30.500</td>\n",
       "      <td>127.250</td>\n",
       "      <td>846.000</td>\n",
       "    </tr>\n",
       "    <tr>\n",
       "      <th>BMI</th>\n",
       "      <td>768.000</td>\n",
       "      <td>31.993</td>\n",
       "      <td>7.884</td>\n",
       "      <td>0.000</td>\n",
       "      <td>27.300</td>\n",
       "      <td>32.000</td>\n",
       "      <td>36.600</td>\n",
       "      <td>67.100</td>\n",
       "    </tr>\n",
       "    <tr>\n",
       "      <th>DiabetesPedigreeFunction</th>\n",
       "      <td>768.000</td>\n",
       "      <td>0.472</td>\n",
       "      <td>0.331</td>\n",
       "      <td>0.078</td>\n",
       "      <td>0.244</td>\n",
       "      <td>0.372</td>\n",
       "      <td>0.626</td>\n",
       "      <td>2.420</td>\n",
       "    </tr>\n",
       "    <tr>\n",
       "      <th>Age</th>\n",
       "      <td>768.000</td>\n",
       "      <td>33.241</td>\n",
       "      <td>11.760</td>\n",
       "      <td>21.000</td>\n",
       "      <td>24.000</td>\n",
       "      <td>29.000</td>\n",
       "      <td>41.000</td>\n",
       "      <td>81.000</td>\n",
       "    </tr>\n",
       "    <tr>\n",
       "      <th>Outcome</th>\n",
       "      <td>768.000</td>\n",
       "      <td>0.349</td>\n",
       "      <td>0.477</td>\n",
       "      <td>0.000</td>\n",
       "      <td>0.000</td>\n",
       "      <td>0.000</td>\n",
       "      <td>1.000</td>\n",
       "      <td>1.000</td>\n",
       "    </tr>\n",
       "  </tbody>\n",
       "</table>\n",
       "</div>"
      ],
      "text/plain": [
       "                           count    mean     std    min    25%     50%     75%     max\n",
       "Pregnancies              768.000   3.845   3.370  0.000  1.000   3.000   6.000  17.000\n",
       "Glucose                  768.000 120.895  31.973  0.000 99.000 117.000 140.250 199.000\n",
       "BloodPressure            768.000  69.105  19.356  0.000 62.000  72.000  80.000 122.000\n",
       "SkinThickness            768.000  20.536  15.952  0.000  0.000  23.000  32.000  99.000\n",
       "Insulin                  768.000  79.799 115.244  0.000  0.000  30.500 127.250 846.000\n",
       "BMI                      768.000  31.993   7.884  0.000 27.300  32.000  36.600  67.100\n",
       "DiabetesPedigreeFunction 768.000   0.472   0.331  0.078  0.244   0.372   0.626   2.420\n",
       "Age                      768.000  33.241  11.760 21.000 24.000  29.000  41.000  81.000\n",
       "Outcome                  768.000   0.349   0.477  0.000  0.000   0.000   1.000   1.000"
      ]
     },
     "execution_count": 32,
     "metadata": {},
     "output_type": "execute_result"
    }
   ],
   "source": [
    "df.describe().T"
   ]
  },
  {
   "cell_type": "code",
   "execution_count": 39,
   "id": "f9bb5474",
   "metadata": {},
   "outputs": [
    {
     "name": "stdout",
     "output_type": "stream",
     "text": [
      "Pregnancies False\n",
      "Glucose False\n",
      "BloodPressure False\n",
      "SkinThickness False\n",
      "Insulin False\n",
      "BMI False\n",
      "DiabetesPedigreeFunction False\n",
      "Age False\n",
      "Outcome False\n"
     ]
    }
   ],
   "source": [
    "for col in df.columns:\n",
    "    print(col, check_outlier(df, col))"
   ]
  },
  {
   "cell_type": "code",
   "execution_count": 40,
   "id": "9c37f46f",
   "metadata": {},
   "outputs": [],
   "source": [
    "replace_with_thresholds(df, 'Insulin')"
   ]
  },
  {
   "cell_type": "code",
   "execution_count": 46,
   "id": "486ee360",
   "metadata": {},
   "outputs": [],
   "source": [
    "# Veriyi standartlaştırmamız lazım\n",
    "# Çünkü modlein değişkenklere eşit yaklaşmasını sağlamamız gerekir\n",
    "# değerleri daha büyük olanın küçük olana üstünlüğü olmamamsı gerekir \n",
    "# kullanılan parametre tahmin yöntemlerinin daha hızlı ve  daha doğru tahminlerde bulunması için kullanırız \n",
    "# RobustScaler fonksiyonu bütün gözlem birimlerinin değerlerinden medyanı çıkarıp\n",
    "# range değerine bölüyor\n",
    "# aykırı değerlere dayanıklı olduğu için bunu tercih ettik \n",
    "for col in df.columns:\n",
    "    df[col] = RobustScaler().fit_transform(df[[col]])"
   ]
  },
  {
   "cell_type": "code",
   "execution_count": 47,
   "id": "12f3cdfc",
   "metadata": {},
   "outputs": [
    {
     "data": {
      "text/html": [
       "<div>\n",
       "<style scoped>\n",
       "    .dataframe tbody tr th:only-of-type {\n",
       "        vertical-align: middle;\n",
       "    }\n",
       "\n",
       "    .dataframe tbody tr th {\n",
       "        vertical-align: top;\n",
       "    }\n",
       "\n",
       "    .dataframe thead th {\n",
       "        text-align: right;\n",
       "    }\n",
       "</style>\n",
       "<table border=\"1\" class=\"dataframe\">\n",
       "  <thead>\n",
       "    <tr style=\"text-align: right;\">\n",
       "      <th></th>\n",
       "      <th>Pregnancies</th>\n",
       "      <th>Glucose</th>\n",
       "      <th>BloodPressure</th>\n",
       "      <th>SkinThickness</th>\n",
       "      <th>Insulin</th>\n",
       "      <th>BMI</th>\n",
       "      <th>DiabetesPedigreeFunction</th>\n",
       "      <th>Age</th>\n",
       "      <th>Outcome</th>\n",
       "    </tr>\n",
       "  </thead>\n",
       "  <tbody>\n",
       "    <tr>\n",
       "      <th>0</th>\n",
       "      <td>0.600</td>\n",
       "      <td>0.752</td>\n",
       "      <td>0.000</td>\n",
       "      <td>0.375</td>\n",
       "      <td>-0.240</td>\n",
       "      <td>0.172</td>\n",
       "      <td>0.665</td>\n",
       "      <td>1.235</td>\n",
       "      <td>1.000</td>\n",
       "    </tr>\n",
       "    <tr>\n",
       "      <th>1</th>\n",
       "      <td>-0.400</td>\n",
       "      <td>-0.776</td>\n",
       "      <td>-0.333</td>\n",
       "      <td>0.188</td>\n",
       "      <td>-0.240</td>\n",
       "      <td>-0.581</td>\n",
       "      <td>-0.056</td>\n",
       "      <td>0.118</td>\n",
       "      <td>0.000</td>\n",
       "    </tr>\n",
       "    <tr>\n",
       "      <th>2</th>\n",
       "      <td>1.000</td>\n",
       "      <td>1.600</td>\n",
       "      <td>-0.444</td>\n",
       "      <td>-0.719</td>\n",
       "      <td>-0.240</td>\n",
       "      <td>-0.935</td>\n",
       "      <td>0.783</td>\n",
       "      <td>0.176</td>\n",
       "      <td>1.000</td>\n",
       "    </tr>\n",
       "    <tr>\n",
       "      <th>3</th>\n",
       "      <td>-0.400</td>\n",
       "      <td>-0.679</td>\n",
       "      <td>-0.333</td>\n",
       "      <td>0.000</td>\n",
       "      <td>0.499</td>\n",
       "      <td>-0.419</td>\n",
       "      <td>-0.537</td>\n",
       "      <td>-0.471</td>\n",
       "      <td>0.000</td>\n",
       "    </tr>\n",
       "    <tr>\n",
       "      <th>4</th>\n",
       "      <td>-0.600</td>\n",
       "      <td>0.485</td>\n",
       "      <td>-1.778</td>\n",
       "      <td>0.375</td>\n",
       "      <td>1.081</td>\n",
       "      <td>1.194</td>\n",
       "      <td>5.008</td>\n",
       "      <td>0.235</td>\n",
       "      <td>1.000</td>\n",
       "    </tr>\n",
       "  </tbody>\n",
       "</table>\n",
       "</div>"
      ],
      "text/plain": [
       "   Pregnancies  Glucose  BloodPressure  SkinThickness  Insulin    BMI  DiabetesPedigreeFunction    Age  Outcome\n",
       "0        0.600    0.752          0.000          0.375   -0.240  0.172                     0.665  1.235    1.000\n",
       "1       -0.400   -0.776         -0.333          0.188   -0.240 -0.581                    -0.056  0.118    0.000\n",
       "2        1.000    1.600         -0.444         -0.719   -0.240 -0.935                     0.783  0.176    1.000\n",
       "3       -0.400   -0.679         -0.333          0.000    0.499 -0.419                    -0.537 -0.471    0.000\n",
       "4       -0.600    0.485         -1.778          0.375    1.081  1.194                     5.008  0.235    1.000"
      ]
     },
     "execution_count": 47,
     "metadata": {},
     "output_type": "execute_result"
    }
   ],
   "source": [
    "df.head()"
   ]
  },
  {
   "cell_type": "code",
   "execution_count": null,
   "id": "556000dd",
   "metadata": {},
   "outputs": [],
   "source": [
    "# 'Modelleme' (Amacımız bağımlı ve bağımısz değişkenler arasındaki ilişkiyi modellemek)"
   ]
  },
  {
   "cell_type": "code",
   "execution_count": 49,
   "id": "31bce806",
   "metadata": {},
   "outputs": [
    {
     "data": {
      "text/plain": [
       "LogisticRegression()"
      ]
     },
     "execution_count": 49,
     "metadata": {},
     "output_type": "execute_result"
    }
   ],
   "source": [
    "y = df['Outcome']\n",
    "\n",
    "X = df.drop(['Outcome'], axis=1)\n",
    "\n",
    "log_model = LogisticRegression().fit(X, y)"
   ]
  },
  {
   "cell_type": "code",
   "execution_count": 54,
   "id": "0f762830",
   "metadata": {},
   "outputs": [
    {
     "data": {
      "text/plain": [
       "array([[ 0.59906785,  1.41770936, -0.23152362,  0.01973855, -0.14571255,\n",
       "         0.81741997,  0.35522795,  0.25655154]])"
      ]
     },
     "execution_count": 54,
     "metadata": {},
     "output_type": "execute_result"
    }
   ],
   "source": [
    "log_model.coef_"
   ]
  },
  {
   "cell_type": "code",
   "execution_count": 60,
   "id": "380809e8",
   "metadata": {},
   "outputs": [
    {
     "data": {
      "text/plain": [
       "array([1., 0., 1., 0., 1., 0., 0., 1., 1., 0.])"
      ]
     },
     "execution_count": 60,
     "metadata": {},
     "output_type": "execute_result"
    }
   ],
   "source": [
    "y_değeritahmini = log_model.predict(X)\n",
    "y_değeritahmini[0:10]"
   ]
  },
  {
   "cell_type": "code",
   "execution_count": 61,
   "id": "7d2d7e2d",
   "metadata": {},
   "outputs": [
    {
     "data": {
      "text/plain": [
       "0   1.000\n",
       "1   0.000\n",
       "2   1.000\n",
       "3   0.000\n",
       "4   1.000\n",
       "5   0.000\n",
       "6   1.000\n",
       "7   0.000\n",
       "8   1.000\n",
       "9   1.000\n",
       "Name: Outcome, dtype: float64"
      ]
     },
     "execution_count": 61,
     "metadata": {},
     "output_type": "execute_result"
    }
   ],
   "source": [
    "y[0:10]"
   ]
  },
  {
   "cell_type": "code",
   "execution_count": 64,
   "id": "9cc3b92d",
   "metadata": {},
   "outputs": [
    {
     "data": {
      "image/png": "[encoded data removed]",
      "text/plain": [
       "<Figure size 640x480 with 2 Axes>"
      ]
     },
     "metadata": {},
     "output_type": "display_data"
    },
    {
     "name": "stdout",
     "output_type": "stream",
     "text": [
      "              precision    recall  f1-score   support\n",
      "\n",
      "         0.0       0.80      0.89      0.84       500\n",
      "         1.0       0.74      0.58      0.65       268\n",
      "\n",
      "    accuracy                           0.78       768\n",
      "   macro avg       0.77      0.74      0.75       768\n",
      "weighted avg       0.78      0.78      0.78       768\n",
      "\n"
     ]
    }
   ],
   "source": [
    "######################################################\n",
    "# Model Evaluation (Model Başarı Değerlendirme )\n",
    "######################################################\n",
    "\n",
    "def plot_confusion_matrix(y, y_değeritahmini):\n",
    "    acc = round(accuracy_score(y, y_değeritahmini), 2)\n",
    "    cm = confusion_matrix(y, y_değeritahmini)\n",
    "    sns.heatmap(cm, annot=True, fmt=\".0f\")\n",
    "    plt.xlabel('y_değeritahmini')\n",
    "    plt.ylabel('y')\n",
    "    plt.title('Accuracy Score: {0}'.format(acc), size=10)\n",
    "    plt.show()\n",
    "\n",
    "plot_confusion_matrix(y, y_değeritahmini)\n",
    "\n",
    "print(classification_report(y, y_değeritahmini))\n",
    "\n",
    "# Accuary = Doğru sınıflandırma oranı \n",
    "# Precision 1 olarak yazdığımız(yaptığımız) tahminler ne kadar başarılı\n",
    "# Recal gerçekte 1 olanları ne kadar başarılı tahmin etmişiz \n",
    "# Precision ve Recal üzerinden de harmonik ortalama olan f1-score hesaplanıyor "
   ]
  },
  {
   "cell_type": "code",
   "execution_count": 68,
   "id": "a9de1a45",
   "metadata": {},
   "outputs": [
    {
     "data": {
      "text/plain": [
       "0.737044776119403"
      ]
     },
     "execution_count": 68,
     "metadata": {},
     "output_type": "execute_result"
    }
   ],
   "source": [
    "# Roc Auc nedir ? auc oluşabilecek farklı classifacation değerlerine karşı bir metrik\n",
    "\n",
    "y_prob = log_model.predict_proba(X)[0:1]\n",
    "roc_auc_score(y, y_değeritahmini)"
   ]
  },
  {
   "cell_type": "code",
   "execution_count": 72,
   "id": "1b57ad45",
   "metadata": {},
   "outputs": [],
   "source": [
    "######################################################\n",
    "# Model Validation: Holdout   \n",
    "# Model doğrulama \n",
    "# BuYaklaşım nasıl çalışıyordu = modelin bir kısmını eğit diğer kısmıyla test et\n",
    "######################################################\n",
    "\n",
    "X_train, X_test, y_train, y_test = train_test_split(X,\n",
    "                                                    y,\n",
    "                                                    test_size=0.20, random_state=17)"
   ]
  },
  {
   "cell_type": "code",
   "execution_count": 73,
   "id": "9f3abec0",
   "metadata": {},
   "outputs": [
    {
     "name": "stdout",
     "output_type": "stream",
     "text": [
      "              precision    recall  f1-score   support\n",
      "\n",
      "         0.0       0.77      0.92      0.84        97\n",
      "         1.0       0.79      0.53      0.63        57\n",
      "\n",
      "    accuracy                           0.77       154\n",
      "   macro avg       0.78      0.72      0.73       154\n",
      "weighted avg       0.78      0.77      0.76       154\n",
      "\n"
     ]
    }
   ],
   "source": [
    "log_model = LogisticRegression().fit(X_train, y_train)\n",
    "\n",
    "y_pred = log_model.predict(X_test)\n",
    "y_prob = log_model.predict_proba(X_test)[:, 1]\n",
    "\n",
    "print(classification_report(y_test, y_pred))\n",
    "\n",
    "# değerler düştü "
   ]
  },
  {
   "cell_type": "code",
   "execution_count": 74,
   "id": "4ddbd773",
   "metadata": {},
   "outputs": [
    {
     "name": "stderr",
     "output_type": "stream",
     "text": [
      "C:\\Users\\Monster\\anaconda3\\lib\\site-packages\\sklearn\\utils\\deprecation.py:87: FutureWarning: Function plot_roc_curve is deprecated; Function :func:`plot_roc_curve` is deprecated in 1.0 and will be removed in 1.2. Use one of the class methods: :meth:`sklearn.metric.RocCurveDisplay.from_predictions` or :meth:`sklearn.metric.RocCurveDisplay.from_estimator`.\n",
      "  warnings.warn(msg, category=FutureWarning)\n"
     ]
    },
    {
     "data": {
      "image/png": "[encoded data removed]",
      "text/plain": [
       "<Figure size 640x480 with 1 Axes>"
      ]
     },
     "metadata": {},
     "output_type": "display_data"
    },
    {
     "data": {
      "text/plain": [
       "0.8755652016639537"
      ]
     },
     "execution_count": 74,
     "metadata": {},
     "output_type": "execute_result"
    }
   ],
   "source": [
    "plot_roc_curve(log_model, X_test, y_test)\n",
    "plt.title('ROC Curve')\n",
    "plt.plot([0, 1], [0, 1], 'r--')\n",
    "plt.show()\n",
    "\n",
    "# AUC\n",
    "roc_auc_score(y_test, y_prob)"
   ]
  },
  {
   "cell_type": "code",
   "execution_count": 80,
   "id": "9cd6b79a",
   "metadata": {},
   "outputs": [],
   "source": [
    "######################################################\n",
    "# Model Validation: 10-Fold Cross Validation\n",
    "######################################################\n",
    "\n",
    "y = df[\"Outcome\"]\n",
    "X = df.drop([\"Outcome\"], axis=1)\n",
    "\n",
    "log_model = LogisticRegression().fit(X, y)\n",
    "\n",
    "cv_results = cross_validate(log_model,\n",
    "                            X, y,\n",
    "                            cv=5,\n",
    "                            scoring=[\"accuracy\", \"precision\", \"recall\", \"f1\", \"roc_auc\"])"
   ]
  },
  {
   "cell_type": "code",
   "execution_count": null,
   "id": "39c9f898",
   "metadata": {},
   "outputs": [],
   "source": [
    "'''\n",
    "Tüm parçaları 5'e ayır ve \n",
    "ondan sonra tek tek her birini test seti ve tren seti olarak ayarla \n",
    "bunların her birini ayrı ayrı ayarladıktan sonra bunların genel ortalamasını Al\n",
    "İşte buna 10 katlı çapraz doğrulama denir'''"
   ]
  },
  {
   "cell_type": "code",
   "execution_count": 81,
   "id": "c819f792",
   "metadata": {},
   "outputs": [
    {
     "data": {
      "text/plain": [
       "0.7721925133689839"
      ]
     },
     "execution_count": 81,
     "metadata": {},
     "output_type": "execute_result"
    }
   ],
   "source": [
    "cv_results['test_accuracy'].mean()\n",
    "# Accuracy: 0.7721"
   ]
  },
  {
   "cell_type": "code",
   "execution_count": 82,
   "id": "9c565d86",
   "metadata": {},
   "outputs": [
    {
     "data": {
      "text/plain": [
       "0.7192472060223519"
      ]
     },
     "execution_count": 82,
     "metadata": {},
     "output_type": "execute_result"
    }
   ],
   "source": [
    "cv_results['test_precision'].mean()\n",
    "# Precision: 0.7192"
   ]
  },
  {
   "cell_type": "code",
   "execution_count": 83,
   "id": "656552a4",
   "metadata": {},
   "outputs": [
    {
     "data": {
      "text/plain": [
       "0.5747030048916841"
      ]
     },
     "execution_count": 83,
     "metadata": {},
     "output_type": "execute_result"
    }
   ],
   "source": [
    "cv_results['test_recall'].mean()\n",
    "# Recall: 0.5747"
   ]
  },
  {
   "cell_type": "code",
   "execution_count": 85,
   "id": "de727a1e",
   "metadata": {},
   "outputs": [
    {
     "data": {
      "text/plain": [
       "0.6371421090986309"
      ]
     },
     "execution_count": 85,
     "metadata": {},
     "output_type": "execute_result"
    }
   ],
   "source": [
    "cv_results['test_f1'].mean()\n",
    "# F1-score: 0.6371"
   ]
  },
  {
   "cell_type": "code",
   "execution_count": 86,
   "id": "da8d8e1f",
   "metadata": {},
   "outputs": [
    {
     "data": {
      "text/plain": [
       "0.8327295597484277"
      ]
     },
     "execution_count": 86,
     "metadata": {},
     "output_type": "execute_result"
    }
   ],
   "source": [
    "cv_results['test_roc_auc'].mean()\n",
    "# AUC: 0.8327"
   ]
  },
  {
   "cell_type": "code",
   "execution_count": 84,
   "id": "dad02be1",
   "metadata": {},
   "outputs": [
    {
     "data": {
      "text/html": [
       "<div>\n",
       "<style scoped>\n",
       "    .dataframe tbody tr th:only-of-type {\n",
       "        vertical-align: middle;\n",
       "    }\n",
       "\n",
       "    .dataframe tbody tr th {\n",
       "        vertical-align: top;\n",
       "    }\n",
       "\n",
       "    .dataframe thead th {\n",
       "        text-align: right;\n",
       "    }\n",
       "</style>\n",
       "<table border=\"1\" class=\"dataframe\">\n",
       "  <thead>\n",
       "    <tr style=\"text-align: right;\">\n",
       "      <th></th>\n",
       "      <th>Pregnancies</th>\n",
       "      <th>Glucose</th>\n",
       "      <th>BloodPressure</th>\n",
       "      <th>SkinThickness</th>\n",
       "      <th>Insulin</th>\n",
       "      <th>BMI</th>\n",
       "      <th>DiabetesPedigreeFunction</th>\n",
       "      <th>Age</th>\n",
       "      <th>Outcome</th>\n",
       "    </tr>\n",
       "  </thead>\n",
       "  <tbody>\n",
       "    <tr>\n",
       "      <th>0</th>\n",
       "      <td>0.600</td>\n",
       "      <td>0.752</td>\n",
       "      <td>0.000</td>\n",
       "      <td>0.375</td>\n",
       "      <td>-0.240</td>\n",
       "      <td>0.172</td>\n",
       "      <td>0.665</td>\n",
       "      <td>1.235</td>\n",
       "      <td>1.000</td>\n",
       "    </tr>\n",
       "    <tr>\n",
       "      <th>1</th>\n",
       "      <td>-0.400</td>\n",
       "      <td>-0.776</td>\n",
       "      <td>-0.333</td>\n",
       "      <td>0.188</td>\n",
       "      <td>-0.240</td>\n",
       "      <td>-0.581</td>\n",
       "      <td>-0.056</td>\n",
       "      <td>0.118</td>\n",
       "      <td>0.000</td>\n",
       "    </tr>\n",
       "    <tr>\n",
       "      <th>2</th>\n",
       "      <td>1.000</td>\n",
       "      <td>1.600</td>\n",
       "      <td>-0.444</td>\n",
       "      <td>-0.719</td>\n",
       "      <td>-0.240</td>\n",
       "      <td>-0.935</td>\n",
       "      <td>0.783</td>\n",
       "      <td>0.176</td>\n",
       "      <td>1.000</td>\n",
       "    </tr>\n",
       "    <tr>\n",
       "      <th>3</th>\n",
       "      <td>-0.400</td>\n",
       "      <td>-0.679</td>\n",
       "      <td>-0.333</td>\n",
       "      <td>0.000</td>\n",
       "      <td>0.499</td>\n",
       "      <td>-0.419</td>\n",
       "      <td>-0.537</td>\n",
       "      <td>-0.471</td>\n",
       "      <td>0.000</td>\n",
       "    </tr>\n",
       "    <tr>\n",
       "      <th>4</th>\n",
       "      <td>-0.600</td>\n",
       "      <td>0.485</td>\n",
       "      <td>-1.778</td>\n",
       "      <td>0.375</td>\n",
       "      <td>1.081</td>\n",
       "      <td>1.194</td>\n",
       "      <td>5.008</td>\n",
       "      <td>0.235</td>\n",
       "      <td>1.000</td>\n",
       "    </tr>\n",
       "  </tbody>\n",
       "</table>\n",
       "</div>"
      ],
      "text/plain": [
       "   Pregnancies  Glucose  BloodPressure  SkinThickness  Insulin    BMI  DiabetesPedigreeFunction    Age  Outcome\n",
       "0        0.600    0.752          0.000          0.375   -0.240  0.172                     0.665  1.235    1.000\n",
       "1       -0.400   -0.776         -0.333          0.188   -0.240 -0.581                    -0.056  0.118    0.000\n",
       "2        1.000    1.600         -0.444         -0.719   -0.240 -0.935                     0.783  0.176    1.000\n",
       "3       -0.400   -0.679         -0.333          0.000    0.499 -0.419                    -0.537 -0.471    0.000\n",
       "4       -0.600    0.485         -1.778          0.375    1.081  1.194                     5.008  0.235    1.000"
      ]
     },
     "execution_count": 84,
     "metadata": {},
     "output_type": "execute_result"
    }
   ],
   "source": [
    "df.head()"
   ]
  },
  {
   "cell_type": "code",
   "execution_count": 87,
   "id": "74afb98e",
   "metadata": {},
   "outputs": [
    {
     "data": {
      "text/plain": [
       "Index(['Pregnancies', 'Glucose', 'BloodPressure', 'SkinThickness', 'Insulin', 'BMI', 'DiabetesPedigreeFunction', 'Age'], dtype='object')"
      ]
     },
     "execution_count": 87,
     "metadata": {},
     "output_type": "execute_result"
    }
   ],
   "source": [
    "######################################################\n",
    "# Prediction for A New Observation\n",
    "######################################################\n",
    "X.columns"
   ]
  },
  {
   "cell_type": "code",
   "execution_count": 94,
   "id": "fb54f8b3",
   "metadata": {},
   "outputs": [
    {
     "data": {
      "text/html": [
       "<div>\n",
       "<style scoped>\n",
       "    .dataframe tbody tr th:only-of-type {\n",
       "        vertical-align: middle;\n",
       "    }\n",
       "\n",
       "    .dataframe tbody tr th {\n",
       "        vertical-align: top;\n",
       "    }\n",
       "\n",
       "    .dataframe thead th {\n",
       "        text-align: right;\n",
       "    }\n",
       "</style>\n",
       "<table border=\"1\" class=\"dataframe\">\n",
       "  <thead>\n",
       "    <tr style=\"text-align: right;\">\n",
       "      <th></th>\n",
       "      <th>Pregnancies</th>\n",
       "      <th>Glucose</th>\n",
       "      <th>BloodPressure</th>\n",
       "      <th>SkinThickness</th>\n",
       "      <th>Insulin</th>\n",
       "      <th>BMI</th>\n",
       "      <th>DiabetesPedigreeFunction</th>\n",
       "      <th>Age</th>\n",
       "    </tr>\n",
       "  </thead>\n",
       "  <tbody>\n",
       "    <tr>\n",
       "      <th>707</th>\n",
       "      <td>-0.200</td>\n",
       "      <td>0.242</td>\n",
       "      <td>-1.444</td>\n",
       "      <td>-0.062</td>\n",
       "      <td>2.393</td>\n",
       "      <td>0.258</td>\n",
       "      <td>-0.514</td>\n",
       "      <td>-0.412</td>\n",
       "    </tr>\n",
       "  </tbody>\n",
       "</table>\n",
       "</div>"
      ],
      "text/plain": [
       "     Pregnancies  Glucose  BloodPressure  SkinThickness  Insulin   BMI  DiabetesPedigreeFunction    Age\n",
       "707       -0.200    0.242         -1.444         -0.062    2.393 0.258                    -0.514 -0.412"
      ]
     },
     "execution_count": 94,
     "metadata": {},
     "output_type": "execute_result"
    }
   ],
   "source": [
    "random_user = X.sample(1, random_state=65)\n",
    "random_user"
   ]
  },
  {
   "cell_type": "code",
   "execution_count": 95,
   "id": "f790297b",
   "metadata": {},
   "outputs": [
    {
     "data": {
      "text/plain": [
       "array([0.])"
      ]
     },
     "execution_count": 95,
     "metadata": {},
     "output_type": "execute_result"
    }
   ],
   "source": [
    "log_model.predict(random_user)"
   ]
  },
  {
   "cell_type": "code",
   "execution_count": null,
   "id": "73c18400",
   "metadata": {},
   "outputs": [],
   "source": []
  },
  {
   "cell_type": "code",
   "execution_count": null,
   "id": "04397596",
   "metadata": {},
   "outputs": [],
   "source": []
  },
  {
   "cell_type": "code",
   "execution_count": null,
   "id": "e865037c",
   "metadata": {},
   "outputs": [],
   "source": []
  },
  {
   "cell_type": "code",
   "execution_count": null,
   "id": "45290a1a",
   "metadata": {},
   "outputs": [],
   "source": []
  },
  {
   "cell_type": "code",
   "execution_count": null,
   "id": "51f49804",
   "metadata": {},
   "outputs": [],
   "source": []
  },
  {
   "cell_type": "code",
   "execution_count": null,
   "id": "19db2444",
   "metadata": {},
   "outputs": [],
   "source": []
  },
  {
   "cell_type": "code",
   "execution_count": null,
   "id": "9c057a2a",
   "metadata": {},
   "outputs": [],
   "source": []
  },
  {
   "cell_type": "code",
   "execution_count": null,
   "id": "25f3b44f",
   "metadata": {},
   "outputs": [],
   "source": []
  },
  {
   "cell_type": "code",
   "execution_count": null,
   "id": "e74b3aa4",
   "metadata": {},
   "outputs": [],
   "source": []
  },
  {
   "cell_type": "code",
   "execution_count": null,
   "id": "38f7236a",
   "metadata": {},
   "outputs": [],
   "source": []
  },
  {
   "cell_type": "code",
   "execution_count": null,
   "id": "0473ca35",
   "metadata": {},
   "outputs": [],
   "source": []
  }
 ],
 "metadata": {
  "kernelspec": {
   "display_name": "Python 3 (ipykernel)",
   "language": "python",
   "name": "python3"
  },
  "language_info": {
   "codemirror_mode": {
    "name": "ipython",
    "version": 3
   },
   "file_extension": ".py",
   "mimetype": "text/x-python",
   "name": "python",
   "nbconvert_exporter": "python",
   "pygments_lexer": "ipython3",
   "version": "3.9.13"
  }
 },
 "nbformat": 4,
 "nbformat_minor": 5
}
